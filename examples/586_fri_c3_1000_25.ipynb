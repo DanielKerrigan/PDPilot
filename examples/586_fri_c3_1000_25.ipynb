{
 "cells": [
  {
   "cell_type": "code",
   "execution_count": null,
   "id": "9566394e",
   "metadata": {},
   "outputs": [],
   "source": [
    "from itertools import combinations\n",
    "\n",
    "import pandas as pd\n",
    "import numpy as np\n",
    "from sklearn.ensemble import RandomForestRegressor\n",
    "from pmlb import fetch_data\n",
    "\n",
    "from pdpexplorer import partial_dependence, PDPExplorerWidget"
   ]
  },
  {
   "cell_type": "code",
   "execution_count": null,
   "id": "0692d1a4",
   "metadata": {},
   "outputs": [],
   "source": [
    "df = fetch_data('586_fri_c3_1000_25')"
   ]
  },
  {
   "cell_type": "code",
   "execution_count": null,
   "id": "3a2f8208",
   "metadata": {},
   "outputs": [],
   "source": [
    "df_X = df.drop(columns=['target'])\n",
    "y = df['target'].values"
   ]
  },
  {
   "cell_type": "code",
   "execution_count": null,
   "id": "d2adbe20",
   "metadata": {},
   "outputs": [],
   "source": [
    "regr = RandomForestRegressor(n_estimators=20)\n",
    "regr.fit(df_X, y)"
   ]
  },
  {
   "cell_type": "code",
   "execution_count": null,
   "id": "92e3e46a",
   "metadata": {},
   "outputs": [],
   "source": [
    "features = list(df_X.columns)"
   ]
  },
  {
   "cell_type": "code",
   "execution_count": null,
   "id": "5072e402",
   "metadata": {},
   "outputs": [],
   "source": [
    "pd_data = partial_dependence(\n",
    "    predict=regr.predict,\n",
    "    df=df_X,\n",
    "    features=features,\n",
    "    resolution=10,\n",
    "    n_jobs=4,\n",
    ")"
   ]
  },
  {
   "cell_type": "code",
   "execution_count": null,
   "id": "86b5dbb7",
   "metadata": {},
   "outputs": [],
   "source": [
    "w = PDPExplorerWidget(\n",
    "    predict=regr.predict,\n",
    "    df=df_X,\n",
    "    pd_data=pd_data,\n",
    "    height=600\n",
    ")\n",
    "\n",
    "w"
   ]
  },
  {
   "cell_type": "code",
   "execution_count": null,
   "id": "ba08cfda",
   "metadata": {},
   "outputs": [],
   "source": []
  }
 ],
 "metadata": {
  "kernelspec": {
   "display_name": "Python 3 (ipykernel)",
   "language": "python",
   "name": "python3"
  },
  "language_info": {
   "codemirror_mode": {
    "name": "ipython",
    "version": 3
   },
   "file_extension": ".py",
   "mimetype": "text/x-python",
   "name": "python",
   "nbconvert_exporter": "python",
   "pygments_lexer": "ipython3",
   "version": "3.8.15"
  }
 },
 "nbformat": 4,
 "nbformat_minor": 5
}
