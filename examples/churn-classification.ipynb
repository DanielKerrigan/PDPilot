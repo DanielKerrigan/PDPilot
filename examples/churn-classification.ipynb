{
 "cells": [
  {
   "cell_type": "markdown",
   "id": "9d81717b",
   "metadata": {},
   "source": [
    "# PDPilot Churn Example\n",
    "\n",
    "This notebook demonstrates how to use PDPilot to anlayze a model trained on the [churn dataset](https://epistasislab.github.io/pmlb/profile/churn.html). Each row in the dataset is a customer of a telephone service provider. The goal is to predict whether or not the customer will churn, or switch to a different provider."
   ]
  },
  {
   "cell_type": "markdown",
   "id": "af9fe246",
   "metadata": {},
   "source": [
    "First, we import [pmlb](https://epistasislab.github.io/pmlb/) to load the dataset, our chosen model class from scikit-learn, and the `partial_dependence` function and `PDPilotWidget` class from PDPilot."
   ]
  },
  {
   "cell_type": "code",
   "execution_count": null,
   "id": "ab54cf39",
   "metadata": {},
   "outputs": [],
   "source": [
    "from sklearn.ensemble import RandomForestClassifier\n",
    "from pmlb import fetch_data\n",
    "from pdpilot import partial_dependence, PDPilotWidget"
   ]
  },
  {
   "cell_type": "markdown",
   "id": "1bb3f4ef",
   "metadata": {},
   "source": [
    "Next, we load the dataset into a pandas dataframe and train a random forest model on it."
   ]
  },
  {
   "cell_type": "code",
   "execution_count": null,
   "id": "d0ffe719",
   "metadata": {},
   "outputs": [],
   "source": [
    "df = fetch_data('churn')"
   ]
  },
  {
   "cell_type": "code",
   "execution_count": null,
   "id": "865c52e3",
   "metadata": {},
   "outputs": [],
   "source": [
    "df"
   ]
  },
  {
   "cell_type": "code",
   "execution_count": null,
   "id": "a47511e0",
   "metadata": {},
   "outputs": [],
   "source": [
    "df_X = df.drop(columns=[\n",
    "    'target', 'state', 'phone number',\n",
    "    'total day charge', 'total night charge',\n",
    "    'total eve charge'\n",
    "])\n",
    "y = df['target'].values"
   ]
  },
  {
   "cell_type": "code",
   "execution_count": null,
   "id": "a68b7cfe",
   "metadata": {},
   "outputs": [],
   "source": [
    "model = RandomForestClassifier(n_estimators=100, max_features='sqrt')\n",
    "model.fit(df_X, y)"
   ]
  },
  {
   "cell_type": "markdown",
   "id": "1c720a66",
   "metadata": {},
   "source": [
    "Next, we get a list of the names of features that we want to compute plots for."
   ]
  },
  {
   "cell_type": "code",
   "execution_count": null,
   "id": "a131a9e1",
   "metadata": {},
   "outputs": [],
   "source": [
    "features = list(df_X.columns)"
   ]
  },
  {
   "cell_type": "markdown",
   "id": "01515263",
   "metadata": {},
   "source": [
    "PDPilot can support up to a few thousand instances. Here we randomly sample 1000 instances from our dataset and get the corresponding ground truth labels."
   ]
  },
  {
   "cell_type": "code",
   "execution_count": null,
   "id": "549a0f94",
   "metadata": {},
   "outputs": [],
   "source": [
    "subset = df_X.sample(1000)\n",
    "labels = y[subset.index].tolist()"
   ]
  },
  {
   "cell_type": "markdown",
   "id": "296c8b1a",
   "metadata": {},
   "source": [
    "Now we are ready to compute the data needed by the widget. For classification, the function that we pass to the `predict` parameter is expected to take a pandas dataframe containing instances as input and return a 1D numpy array containing the predicted probabilities of those instances. Since we are working with a binary classification dataset, we choose the probabilities for the positive class. If we had a multi-class dataset, then we would need to choose one class to calculate the plots for."
   ]
  },
  {
   "cell_type": "code",
   "execution_count": null,
   "id": "9b716273",
   "metadata": {},
   "outputs": [],
   "source": [
    "def predict(X):\n",
    "    return model.predict_proba(X)[:,1]"
   ]
  },
  {
   "cell_type": "markdown",
   "id": "a18a1cbb",
   "metadata": {},
   "source": [
    "With the `ordinal_features` and `nominal_features` parameters, we can override the default feature type inference."
   ]
  },
  {
   "cell_type": "code",
   "execution_count": null,
   "id": "e44ac050",
   "metadata": {},
   "outputs": [],
   "source": [
    "pd_data = partial_dependence(\n",
    "    predict=predict,\n",
    "    df=subset,\n",
    "    features=features,\n",
    "    ordinal_features={'international plan', 'voice mail plan', 'number customer service calls'},\n",
    "    nominal_features={'area code'},\n",
    "    resolution=20,\n",
    "    n_jobs=4,\n",
    ")"
   ]
  },
  {
   "cell_type": "markdown",
   "id": "a62cd7b5",
   "metadata": {},
   "source": [
    "Now we are ready to run the widget."
   ]
  },
  {
   "cell_type": "code",
   "execution_count": null,
   "id": "6414de44",
   "metadata": {},
   "outputs": [],
   "source": [
    "w = PDPilotWidget(\n",
    "    predict=predict,\n",
    "    df=subset,\n",
    "    labels=labels,\n",
    "    pd_data=pd_data,\n",
    "    height=650\n",
    ")\n",
    "\n",
    "w"
   ]
  },
  {
   "cell_type": "code",
   "execution_count": null,
   "id": "a10b5c84",
   "metadata": {},
   "outputs": [],
   "source": []
  }
 ],
 "metadata": {
  "kernelspec": {
   "display_name": "Python 3 (ipykernel)",
   "language": "python",
   "name": "python3"
  },
  "language_info": {
   "codemirror_mode": {
    "name": "ipython",
    "version": 3
   },
   "file_extension": ".py",
   "mimetype": "text/x-python",
   "name": "python",
   "nbconvert_exporter": "python",
   "pygments_lexer": "ipython3",
   "version": "3.8.16"
  }
 },
 "nbformat": 4,
 "nbformat_minor": 5
}
