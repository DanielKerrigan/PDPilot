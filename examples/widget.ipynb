{
 "cells": [
  {
   "cell_type": "code",
   "execution_count": 19,
   "id": "6032d65e-5e9c-46b5-a1c3-7905fbee9687",
   "metadata": {},
   "outputs": [],
   "source": [
    "from pdp_ranking import PdpRanker"
   ]
  },
  {
   "cell_type": "code",
   "execution_count": 24,
   "id": "c5ab4681-2747-4ce7-b15b-280a459ee160",
   "metadata": {},
   "outputs": [
    {
     "data": {
      "application/vnd.jupyter.widget-view+json": {
       "model_id": "33e43feb57a641bcaeb3936c025cf4eb",
       "version_major": 2,
       "version_minor": 0
      },
      "text/plain": [
       "PdpRanker()"
      ]
     },
     "metadata": {},
     "output_type": "display_data"
    }
   ],
   "source": [
    "ranker = PdpRanker()\n",
    "ranker"
   ]
  },
  {
   "cell_type": "code",
   "execution_count": 25,
   "id": "1b7df902-951f-4443-87ce-dafcf20e1e9d",
   "metadata": {},
   "outputs": [
    {
     "name": "stderr",
     "output_type": "stream",
     "text": [
      "/Users/rkalafos/mambaforge/envs/jupyter-react-widget/lib/python3.10/site-packages/sklearn/inspection/_partial_dependence.py:508: FutureWarning: A Bunch will be returned in place of 'predictions' from version 1.1 (renaming of 0.26) with partial dependence results accessible via the 'average' key. In the meantime, pass kind='average' to get the future behaviour.\n",
      "  warnings.warn(\n"
     ]
    }
   ],
   "source": [
    "pdp, axes = ranker.generate_pdp(\"temp\")"
   ]
  }
 ],
 "metadata": {
  "kernelspec": {
   "display_name": "Python 3 (ipykernel)",
   "language": "python",
   "name": "python3"
  },
  "language_info": {
   "codemirror_mode": {
    "name": "ipython",
    "version": 3
   },
   "file_extension": ".py",
   "mimetype": "text/x-python",
   "name": "python",
   "nbconvert_exporter": "python",
   "pygments_lexer": "ipython3",
   "version": "3.10.2"
  }
 },
 "nbformat": 4,
 "nbformat_minor": 5
}
