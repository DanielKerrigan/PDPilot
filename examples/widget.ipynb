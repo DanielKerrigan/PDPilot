{
 "cells": [
  {
   "cell_type": "code",
   "execution_count": 23,
   "id": "71e738db",
   "metadata": {},
   "outputs": [],
   "source": [
    "import pandas as pd\n",
    "from sklearn.ensemble import RandomForestRegressor"
   ]
  },
  {
   "cell_type": "code",
   "execution_count": 24,
   "id": "6032d65e-5e9c-46b5-a1c3-7905fbee9687",
   "metadata": {},
   "outputs": [],
   "source": [
    "from pdp_ranking import PdpRanker"
   ]
  },
  {
   "cell_type": "code",
   "execution_count": 25,
   "id": "e10dc0fa",
   "metadata": {},
   "outputs": [],
   "source": [
    "dataframe = pd.read_csv(\"../data/bike-sharing-dataset/hour.csv\")"
   ]
  },
  {
   "cell_type": "code",
   "execution_count": 26,
   "id": "36e346c1",
   "metadata": {},
   "outputs": [],
   "source": [
    "features = [\"holiday\",\"weekday\",\"workingday\",\"weathersit\",\"temp\",\"hum\",\"windspeed\"]"
   ]
  },
  {
   "cell_type": "code",
   "execution_count": 27,
   "id": "448838d6",
   "metadata": {},
   "outputs": [],
   "source": [
    "data_x = dataframe.loc[:, features]\n",
    "data_y = dataframe[\"cnt\"]"
   ]
  },
  {
   "cell_type": "code",
   "execution_count": 28,
   "id": "d64b91bb",
   "metadata": {},
   "outputs": [],
   "source": [
    "model = RandomForestRegressor()"
   ]
  },
  {
   "cell_type": "code",
   "execution_count": 29,
   "id": "52fd6065",
   "metadata": {},
   "outputs": [
    {
     "data": {
      "text/plain": [
       "RandomForestRegressor()"
      ]
     },
     "execution_count": 29,
     "metadata": {},
     "output_type": "execute_result"
    }
   ],
   "source": [
    "model.fit(data_x, data_y)"
   ]
  },
  {
   "cell_type": "code",
   "execution_count": 30,
   "id": "c3ddffae-cc4c-4167-917c-37d7638635f8",
   "metadata": {},
   "outputs": [
    {
     "data": {
      "text/plain": [
       "array([0.00549213, 0.12797336, 0.02637166, 0.0417021 , 0.30878135,\n",
       "       0.29463191, 0.1950475 ])"
      ]
     },
     "execution_count": 30,
     "metadata": {},
     "output_type": "execute_result"
    }
   ],
   "source": [
    "model.feature_importances_"
   ]
  },
  {
   "cell_type": "code",
   "execution_count": 31,
   "id": "f832be92",
   "metadata": {},
   "outputs": [
    {
     "name": "stderr",
     "output_type": "stream",
     "text": [
      "/Users/rkalafos/mambaforge/envs/pdp_ranking-dev/lib/python3.10/site-packages/sklearn/utils/__init__.py:202: FutureWarning: Using a non-tuple sequence for multidimensional indexing is deprecated; use `arr[tuple(seq)]` instead of `arr[seq]`. In the future this will be interpreted as an array index, `arr[np.array(seq)]`, which will result either in an error or a different result.\n",
      "  return array[key] if axis == 0 else array[:, key]\n",
      "/Users/rkalafos/mambaforge/envs/pdp_ranking-dev/lib/python3.10/site-packages/sklearn/utils/__init__.py:202: FutureWarning: Using a non-tuple sequence for multidimensional indexing is deprecated; use `arr[tuple(seq)]` instead of `arr[seq]`. In the future this will be interpreted as an array index, `arr[np.array(seq)]`, which will result either in an error or a different result.\n",
      "  return array[key] if axis == 0 else array[:, key]\n",
      "/Users/rkalafos/mambaforge/envs/pdp_ranking-dev/lib/python3.10/site-packages/sklearn/utils/__init__.py:202: FutureWarning: Using a non-tuple sequence for multidimensional indexing is deprecated; use `arr[tuple(seq)]` instead of `arr[seq]`. In the future this will be interpreted as an array index, `arr[np.array(seq)]`, which will result either in an error or a different result.\n",
      "  return array[key] if axis == 0 else array[:, key]\n",
      "/Users/rkalafos/mambaforge/envs/pdp_ranking-dev/lib/python3.10/site-packages/sklearn/utils/__init__.py:202: FutureWarning: Using a non-tuple sequence for multidimensional indexing is deprecated; use `arr[tuple(seq)]` instead of `arr[seq]`. In the future this will be interpreted as an array index, `arr[np.array(seq)]`, which will result either in an error or a different result.\n",
      "  return array[key] if axis == 0 else array[:, key]\n",
      "/Users/rkalafos/mambaforge/envs/pdp_ranking-dev/lib/python3.10/site-packages/sklearn/utils/__init__.py:202: FutureWarning: Using a non-tuple sequence for multidimensional indexing is deprecated; use `arr[tuple(seq)]` instead of `arr[seq]`. In the future this will be interpreted as an array index, `arr[np.array(seq)]`, which will result either in an error or a different result.\n",
      "  return array[key] if axis == 0 else array[:, key]\n",
      "/Users/rkalafos/mambaforge/envs/pdp_ranking-dev/lib/python3.10/site-packages/sklearn/utils/__init__.py:202: FutureWarning: Using a non-tuple sequence for multidimensional indexing is deprecated; use `arr[tuple(seq)]` instead of `arr[seq]`. In the future this will be interpreted as an array index, `arr[np.array(seq)]`, which will result either in an error or a different result.\n",
      "  return array[key] if axis == 0 else array[:, key]\n",
      "/Users/rkalafos/mambaforge/envs/pdp_ranking-dev/lib/python3.10/site-packages/sklearn/utils/__init__.py:202: FutureWarning: Using a non-tuple sequence for multidimensional indexing is deprecated; use `arr[tuple(seq)]` instead of `arr[seq]`. In the future this will be interpreted as an array index, `arr[np.array(seq)]`, which will result either in an error or a different result.\n",
      "  return array[key] if axis == 0 else array[:, key]\n",
      "/Users/rkalafos/mambaforge/envs/pdp_ranking-dev/lib/python3.10/site-packages/sklearn/utils/__init__.py:202: FutureWarning: Using a non-tuple sequence for multidimensional indexing is deprecated; use `arr[tuple(seq)]` instead of `arr[seq]`. In the future this will be interpreted as an array index, `arr[np.array(seq)]`, which will result either in an error or a different result.\n",
      "  return array[key] if axis == 0 else array[:, key]\n",
      "/Users/rkalafos/mambaforge/envs/pdp_ranking-dev/lib/python3.10/site-packages/sklearn/utils/__init__.py:202: FutureWarning: Using a non-tuple sequence for multidimensional indexing is deprecated; use `arr[tuple(seq)]` instead of `arr[seq]`. In the future this will be interpreted as an array index, `arr[np.array(seq)]`, which will result either in an error or a different result.\n",
      "  return array[key] if axis == 0 else array[:, key]\n",
      "/Users/rkalafos/mambaforge/envs/pdp_ranking-dev/lib/python3.10/site-packages/sklearn/utils/__init__.py:202: FutureWarning: Using a non-tuple sequence for multidimensional indexing is deprecated; use `arr[tuple(seq)]` instead of `arr[seq]`. In the future this will be interpreted as an array index, `arr[np.array(seq)]`, which will result either in an error or a different result.\n",
      "  return array[key] if axis == 0 else array[:, key]\n"
     ]
    }
   ],
   "source": [
    "ranker = PdpRanker(model, data_x)"
   ]
  },
  {
   "cell_type": "code",
   "execution_count": 32,
   "id": "df854f06-24b6-46c9-bcd9-98b4210a94d3",
   "metadata": {},
   "outputs": [
    {
     "data": {
      "application/vnd.jupyter.widget-view+json": {
       "model_id": "e8c43261944d47b0827e49d8cfe33599",
       "version_major": 2,
       "version_minor": 0
      },
      "text/plain": [
       "PdpRanker(features=['holiday', 'weekday', 'workingday', 'weathersit', 'temp', 'hum', 'windspeed'], selected_do…"
      ]
     },
     "metadata": {},
     "output_type": "display_data"
    }
   ],
   "source": [
    "ranker"
   ]
  },
  {
   "cell_type": "code",
   "execution_count": 22,
   "id": "31e7f838",
   "metadata": {},
   "outputs": [
    {
     "data": {
      "application/vnd.jupyter.widget-view+json": {
       "model_id": "f44fcbd5a15b4a58b425a917ec135938",
       "version_major": 2,
       "version_minor": 0
      },
      "text/plain": [
       "Output(layout=Layout(border='1px solid black', height='160px', width='100%'))"
      ]
     },
     "metadata": {},
     "output_type": "display_data"
    }
   ],
   "source": [
    "ranker.handler.show_logs()"
   ]
  },
  {
   "cell_type": "code",
   "execution_count": null,
   "id": "50ece184-a986-46f9-a493-ac9a37db110f",
   "metadata": {},
   "outputs": [],
   "source": []
  }
 ],
 "metadata": {
  "kernelspec": {
   "display_name": "Python 3 (ipykernel)",
   "language": "python",
   "name": "python3"
  },
  "language_info": {
   "codemirror_mode": {
    "name": "ipython",
    "version": 3
   },
   "file_extension": ".py",
   "mimetype": "text/x-python",
   "name": "python",
   "nbconvert_exporter": "python",
   "pygments_lexer": "ipython3",
   "version": "3.10.4"
  }
 },
 "nbformat": 4,
 "nbformat_minor": 5
}
