{
 "cells": [
  {
   "cell_type": "code",
   "execution_count": 1,
   "id": "71e738db",
   "metadata": {},
   "outputs": [],
   "source": [
    "import pandas as pd\n",
    "from sklearn.ensemble import RandomForestRegressor"
   ]
  },
  {
   "cell_type": "code",
   "execution_count": 2,
   "id": "6032d65e-5e9c-46b5-a1c3-7905fbee9687",
   "metadata": {},
   "outputs": [],
   "source": [
    "from pdp_ranking import PdpRanker"
   ]
  },
  {
   "cell_type": "code",
   "execution_count": 3,
   "id": "e10dc0fa",
   "metadata": {},
   "outputs": [],
   "source": [
    "dataframe = pd.read_csv(\"../data/bike-sharing-dataset/day.csv\")"
   ]
  },
  {
   "cell_type": "code",
   "execution_count": 4,
   "id": "36e346c1",
   "metadata": {},
   "outputs": [],
   "source": [
    "features = [\"holiday\",\"weekday\",\"workingday\",\"weathersit\",\"temp\",\"hum\",\"windspeed\"]"
   ]
  },
  {
   "cell_type": "code",
   "execution_count": 5,
   "id": "448838d6",
   "metadata": {},
   "outputs": [],
   "source": [
    "data_x = dataframe.loc[:, features]\n",
    "data_y = dataframe[\"cnt\"]"
   ]
  },
  {
   "cell_type": "code",
   "execution_count": 6,
   "id": "d64b91bb",
   "metadata": {},
   "outputs": [],
   "source": [
    "model = RandomForestRegressor()"
   ]
  },
  {
   "cell_type": "code",
   "execution_count": 7,
   "id": "52fd6065",
   "metadata": {},
   "outputs": [
    {
     "data": {
      "text/plain": [
       "RandomForestRegressor()"
      ]
     },
     "execution_count": 7,
     "metadata": {},
     "output_type": "execute_result"
    }
   ],
   "source": [
    "model.fit(data_x, data_y)"
   ]
  },
  {
   "cell_type": "code",
   "execution_count": 8,
   "id": "c3ddffae-cc4c-4167-917c-37d7638635f8",
   "metadata": {},
   "outputs": [
    {
     "data": {
      "text/plain": [
       "array([0.00648959, 0.04332722, 0.01301533, 0.01967719, 0.59550733,\n",
       "       0.19252501, 0.12945833])"
      ]
     },
     "execution_count": 8,
     "metadata": {},
     "output_type": "execute_result"
    }
   ],
   "source": [
    "model.feature_importances_"
   ]
  },
  {
   "cell_type": "code",
   "execution_count": 9,
   "id": "f832be92",
   "metadata": {},
   "outputs": [
    {
     "name": "stderr",
     "output_type": "stream",
     "text": [
      "/Users/rkalafos/mambaforge/envs/pdp_ranking-dev/lib/python3.10/site-packages/sklearn/utils/__init__.py:202: FutureWarning: Using a non-tuple sequence for multidimensional indexing is deprecated; use `arr[tuple(seq)]` instead of `arr[seq]`. In the future this will be interpreted as an array index, `arr[np.array(seq)]`, which will result either in an error or a different result.\n",
      "  return array[key] if axis == 0 else array[:, key]\n"
     ]
    },
    {
     "data": {
      "application/vnd.jupyter.widget-view+json": {
       "model_id": "b764ef9f936d44d9a6d4d06489af5953",
       "version_major": 2,
       "version_minor": 0
      },
      "text/plain": [
       "PdpRanker(features=['holiday', 'weekday', 'workingday', 'weathersit', 'temp', 'hum', 'windspeed'], pdp_data=[{…"
      ]
     },
     "metadata": {},
     "output_type": "display_data"
    }
   ],
   "source": [
    "ranker = PdpRanker(model, data_x)\n",
    "ranker"
   ]
  },
  {
   "cell_type": "code",
   "execution_count": 10,
   "id": "31e7f838",
   "metadata": {},
   "outputs": [
    {
     "data": {
      "application/vnd.jupyter.widget-view+json": {
       "model_id": "c665e11e79cf42919b64fb3b0d4de445",
       "version_major": 2,
       "version_minor": 0
      },
      "text/plain": [
       "Output(layout=Layout(border='1px solid black', height='160px', width='100%'))"
      ]
     },
     "metadata": {},
     "output_type": "display_data"
    }
   ],
   "source": [
    "ranker.handler.show_logs()"
   ]
  },
  {
   "cell_type": "code",
   "execution_count": 11,
   "id": "4f1e6215-3c99-4664-bcd6-3b4313a39d14",
   "metadata": {},
   "outputs": [],
   "source": [
    "from sklearn.inspection import partial_dependence"
   ]
  },
  {
   "cell_type": "code",
   "execution_count": 12,
   "id": "b31afb62-a396-4590-b987-ddb5cc97fa50",
   "metadata": {},
   "outputs": [],
   "source": [
    "pdp = partial_dependence(model, data_x, (5,), kind='average')"
   ]
  },
  {
   "cell_type": "code",
   "execution_count": 13,
   "id": "06627b33-6d6b-4be8-81cb-8b54fc0f392c",
   "metadata": {},
   "outputs": [],
   "source": [
    "x = list(pdp['values'][0])\n",
    "y = list(pdp['average'][0])"
   ]
  },
  {
   "cell_type": "code",
   "execution_count": 14,
   "id": "e4f7f96e-f283-4adf-a56a-8de99595e439",
   "metadata": {},
   "outputs": [
    {
     "data": {
      "text/plain": [
       "0.13567522542711444"
      ]
     },
     "execution_count": 14,
     "metadata": {},
     "output_type": "execute_result"
    }
   ],
   "source": [
    "import statistics\n",
    "statistics.stdev(x)"
   ]
  },
  {
   "cell_type": "code",
   "execution_count": 15,
   "id": "ec353b7d-a931-49a0-bf3d-bc9899a12e03",
   "metadata": {},
   "outputs": [
    {
     "data": {
      "text/plain": [
       "487.56373128507"
      ]
     },
     "execution_count": 15,
     "metadata": {},
     "output_type": "execute_result"
    }
   ],
   "source": [
    "statistics.stdev(y)"
   ]
  },
  {
   "cell_type": "code",
   "execution_count": null,
   "id": "c6caba90-dc58-4b06-8896-429999bd2484",
   "metadata": {},
   "outputs": [],
   "source": []
  },
  {
   "cell_type": "code",
   "execution_count": null,
   "id": "c487dd7f-de9d-48c2-92b4-ff440eb2c31d",
   "metadata": {},
   "outputs": [],
   "source": []
  }
 ],
 "metadata": {
  "kernelspec": {
   "display_name": "Python 3 (ipykernel)",
   "language": "python",
   "name": "python3"
  },
  "language_info": {
   "codemirror_mode": {
    "name": "ipython",
    "version": 3
   },
   "file_extension": ".py",
   "mimetype": "text/x-python",
   "name": "python",
   "nbconvert_exporter": "python",
   "pygments_lexer": "ipython3",
   "version": "3.10.4"
  }
 },
 "nbformat": 4,
 "nbformat_minor": 5
}
