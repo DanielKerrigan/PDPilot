{
 "cells": [
  {
   "cell_type": "code",
   "execution_count": null,
   "id": "71e738db",
   "metadata": {},
   "outputs": [],
   "source": [
    "import pandas as pd\n",
    "from sklearn.ensemble import RandomForestRegressor"
   ]
  },
  {
   "cell_type": "code",
   "execution_count": null,
   "id": "6032d65e-5e9c-46b5-a1c3-7905fbee9687",
   "metadata": {},
   "outputs": [],
   "source": [
    "from pdp_ranking import PdpRanker"
   ]
  },
  {
   "cell_type": "code",
   "execution_count": null,
   "id": "e10dc0fa",
   "metadata": {},
   "outputs": [],
   "source": [
    "dataframe = pd.read_csv(\"../data/bike-sharing-dataset/day.csv\")"
   ]
  },
  {
   "cell_type": "code",
   "execution_count": null,
   "id": "36e346c1",
   "metadata": {},
   "outputs": [],
   "source": [
    "features = [\"holiday\",\"weekday\",\"workingday\",\"weathersit\",\"temp\",\"hum\",\"windspeed\"]"
   ]
  },
  {
   "cell_type": "code",
   "execution_count": null,
   "id": "448838d6",
   "metadata": {},
   "outputs": [],
   "source": [
    "data_x = dataframe.loc[:, features]\n",
    "data_y = dataframe[\"cnt\"]\n",
    "\n",
    "data_x_train = data_x[:-146]\n",
    "data_x_test = data_x[-146:]\n",
    "\n",
    "data_y_train = data_y[:-146]\n",
    "data_y_test = data_y[-146:]"
   ]
  },
  {
   "cell_type": "code",
   "execution_count": null,
   "id": "d64b91bb",
   "metadata": {},
   "outputs": [],
   "source": [
    "model = RandomForestRegressor()"
   ]
  },
  {
   "cell_type": "code",
   "execution_count": null,
   "id": "52fd6065",
   "metadata": {},
   "outputs": [],
   "source": [
    "model.fit(data_x_train, data_y_train)"
   ]
  },
  {
   "cell_type": "code",
   "execution_count": null,
   "id": "f832be92",
   "metadata": {},
   "outputs": [],
   "source": [
    "PdpRanker(model, data_x_train)"
   ]
  },
  {
   "cell_type": "code",
   "execution_count": null,
   "id": "2a090d73",
   "metadata": {},
   "outputs": [],
   "source": []
  }
 ],
 "metadata": {
  "kernelspec": {
   "display_name": "Python 3 (ipykernel)",
   "language": "python",
   "name": "python3"
  },
  "language_info": {
   "codemirror_mode": {
    "name": "ipython",
    "version": 3
   },
   "file_extension": ".py",
   "mimetype": "text/x-python",
   "name": "python",
   "nbconvert_exporter": "python",
   "pygments_lexer": "ipython3",
   "version": "3.10.2"
  }
 },
 "nbformat": 4,
 "nbformat_minor": 5
}
