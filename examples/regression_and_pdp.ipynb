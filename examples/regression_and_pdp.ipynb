{
 "cells": [
  {
   "cell_type": "code",
   "execution_count": 14,
   "id": "91c3b55e-f368-4e2d-8738-1c797980f7be",
   "metadata": {},
   "outputs": [],
   "source": [
    "import pandas as pd"
   ]
  },
  {
   "cell_type": "code",
   "execution_count": 15,
   "id": "b1c6fb3a-1041-4c1f-9805-1b04f37cc6c2",
   "metadata": {},
   "outputs": [],
   "source": [
    "from sklearn.ensemble import RandomForestRegressor\n",
    "from sklearn.inspection import PartialDependenceDisplay\n",
    "from sklearn.inspection import partial_dependence"
   ]
  },
  {
   "cell_type": "code",
   "execution_count": 16,
   "id": "83146395-4a2d-45e5-b5aa-5b06fa5016df",
   "metadata": {},
   "outputs": [],
   "source": [
    "dataframe = pd.read_csv(\"../data/bike-sharing-dataset/day.csv\")"
   ]
  },
  {
   "cell_type": "code",
   "execution_count": 17,
   "id": "0f5823cf-493f-4eae-8e8a-57c68e371da9",
   "metadata": {},
   "outputs": [],
   "source": [
    "features = [\"holiday\",\"weekday\",\"workingday\",\"weathersit\",\"temp\",\"hum\",\"windspeed\"]"
   ]
  },
  {
   "cell_type": "code",
   "execution_count": 18,
   "id": "a42be2f7-1a28-4387-bbe3-6a01fe55808d",
   "metadata": {},
   "outputs": [],
   "source": [
    "data_x = dataframe.loc[:, features]\n",
    "data_y = dataframe[\"cnt\"]\n",
    "\n",
    "data_x_train = data_x[:-146]\n",
    "data_x_test = data_x[-146:]\n",
    "\n",
    "data_y_train = data_y[:-146]\n",
    "data_y_test = data_y[-146:]"
   ]
  },
  {
   "cell_type": "code",
   "execution_count": 19,
   "id": "c98bbbbd-fbcc-4feb-9f49-29c3f50a1bde",
   "metadata": {},
   "outputs": [],
   "source": [
    "model = RandomForestRegressor()"
   ]
  },
  {
   "cell_type": "code",
   "execution_count": 20,
   "id": "2048966b-b60c-4469-8873-f54b4ac9e922",
   "metadata": {},
   "outputs": [
    {
     "data": {
      "text/plain": [
       "RandomForestRegressor()"
      ]
     },
     "execution_count": 20,
     "metadata": {},
     "output_type": "execute_result"
    }
   ],
   "source": [
    "model.fit(data_x_train, data_y_train)"
   ]
  },
  {
   "cell_type": "code",
   "execution_count": 21,
   "id": "d66175a5-7bfe-419d-9fd4-bc44809bb16d",
   "metadata": {},
   "outputs": [],
   "source": [
    "features = [\"temp\", \"hum\", (\"temp\", \"hum\")]"
   ]
  },
  {
   "cell_type": "code",
   "execution_count": 22,
   "id": "54bb3e81-ec50-458e-86b9-d745b66abd36",
   "metadata": {},
   "outputs": [
    {
     "data": {
      "text/plain": [
       "<sklearn.inspection._plot.partial_dependence.PartialDependenceDisplay at 0x107c1b310>"
      ]
     },
     "execution_count": 22,
     "metadata": {},
     "output_type": "execute_result"
    },
    {
     "data": {
      "image/png": "[encoded data removed]",
      "text/plain": [
       "<Figure size 432x288 with 2 Axes>"
      ]
     },
     "metadata": {
      "needs_background": "light"
     },
     "output_type": "display_data"
    }
   ],
   "source": [
    "PartialDependenceDisplay.from_estimator(model, data_x_train, [\"temp\"])"
   ]
  },
  {
   "cell_type": "code",
   "execution_count": 23,
   "id": "d09cb4ae-a6c6-4d3b-af3a-b5c244445bfe",
   "metadata": {},
   "outputs": [
    {
     "name": "stderr",
     "output_type": "stream",
     "text": [
      "/Users/rkalafos/mambaforge/envs/jupyter-react-widget/lib/python3.10/site-packages/sklearn/inspection/_partial_dependence.py:508: FutureWarning: A Bunch will be returned in place of 'predictions' from version 1.1 (renaming of 0.26) with partial dependence results accessible via the 'average' key. In the meantime, pass kind='average' to get the future behaviour.\n",
      "  warnings.warn(\n"
     ]
    }
   ],
   "source": [
    "pdp, axes = partial_dependence(model, data_x, [\"temp\"])"
   ]
  }
 ],
 "metadata": {
  "kernelspec": {
   "display_name": "Python 3 (ipykernel)",
   "language": "python",
   "name": "python3"
  },
  "language_info": {
   "codemirror_mode": {
    "name": "ipython",
    "version": 3
   },
   "file_extension": ".py",
   "mimetype": "text/x-python",
   "name": "python",
   "nbconvert_exporter": "python",
   "pygments_lexer": "ipython3",
   "version": "3.10.2"
  }
 },
 "nbformat": 4,
 "nbformat_minor": 5
}
