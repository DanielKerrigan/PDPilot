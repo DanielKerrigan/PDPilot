{
 "cells": [
  {
   "cell_type": "code",
   "execution_count": null,
   "id": "4122f3c1",
   "metadata": {},
   "outputs": [],
   "source": [
    "import pandas as pd\n",
    "from sklearn.ensemble import RandomForestRegressor\n",
    "from sklearn.inspection import PartialDependenceDisplay\n",
    "from sklearn.inspection import partial_dependence"
   ]
  },
  {
   "cell_type": "code",
   "execution_count": null,
   "id": "1780a7e1",
   "metadata": {},
   "outputs": [],
   "source": [
    "dataframe = pd.read_csv(\"../data/bike-sharing-dataset/day.csv\")"
   ]
  },
  {
   "cell_type": "code",
   "execution_count": null,
   "id": "b263ff94",
   "metadata": {},
   "outputs": [],
   "source": [
    "features = [\"holiday\",\"weekday\",\"workingday\",\"weathersit\",\"temp\",\"hum\",\"windspeed\"]"
   ]
  },
  {
   "cell_type": "code",
   "execution_count": null,
   "id": "8d62e3f1",
   "metadata": {},
   "outputs": [],
   "source": [
    "data_x = dataframe.loc[:, features]\n",
    "data_y = dataframe[\"cnt\"]\n",
    "\n",
    "data_x_train = data_x[:-146]\n",
    "data_x_test = data_x[-146:]\n",
    "\n",
    "data_y_train = data_y[:-146]\n",
    "data_y_test = data_y[-146:]"
   ]
  },
  {
   "cell_type": "code",
   "execution_count": null,
   "id": "3b41ca8c",
   "metadata": {},
   "outputs": [],
   "source": [
    "model = RandomForestRegressor()"
   ]
  },
  {
   "cell_type": "code",
   "execution_count": null,
   "id": "41c0ac81",
   "metadata": {},
   "outputs": [],
   "source": [
    "model.fit(data_x_train, data_y_train)"
   ]
  },
  {
   "cell_type": "code",
   "execution_count": null,
   "id": "22fe1a30",
   "metadata": {},
   "outputs": [],
   "source": [
    "partial_dependence(model, data_x, [\"temp\"], kind='average')"
   ]
  },
  {
   "cell_type": "code",
   "execution_count": null,
   "id": "2365b9ae",
   "metadata": {},
   "outputs": [],
   "source": [
    "partial_dependence(model, data_x, [(4, 5)], kind='average')"
   ]
  },
  {
   "cell_type": "code",
   "execution_count": null,
   "id": "53f9fde8",
   "metadata": {},
   "outputs": [],
   "source": [
    "partial_dependence(model, data_x, [1], kind='average')"
   ]
  },
  {
   "cell_type": "code",
   "execution_count": null,
   "id": "aac19a53",
   "metadata": {},
   "outputs": [],
   "source": []
  }
 ],
 "metadata": {
  "kernelspec": {
   "display_name": "Python 3 (ipykernel)",
   "language": "python",
   "name": "python3"
  },
  "language_info": {
   "codemirror_mode": {
    "name": "ipython",
    "version": 3
   },
   "file_extension": ".py",
   "mimetype": "text/x-python",
   "name": "python",
   "nbconvert_exporter": "python",
   "pygments_lexer": "ipython3",
   "version": "3.10.2"
  }
 },
 "nbformat": 4,
 "nbformat_minor": 5
}
