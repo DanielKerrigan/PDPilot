{
 "cells": [
  {
   "cell_type": "code",
   "execution_count": null,
   "id": "ab54cf39",
   "metadata": {},
   "outputs": [],
   "source": [
    "import pandas as pd\n",
    "import numpy as np\n",
    "from sklearn.ensemble import RandomForestRegressor\n",
    "from pmlb import fetch_data\n",
    "\n",
    "from pdpexplorer import partial_dependence, PDPExplorerWidget"
   ]
  },
  {
   "cell_type": "code",
   "execution_count": null,
   "id": "d0ffe719",
   "metadata": {},
   "outputs": [],
   "source": [
    "df = fetch_data('churn')"
   ]
  },
  {
   "cell_type": "code",
   "execution_count": null,
   "id": "865c52e3",
   "metadata": {},
   "outputs": [],
   "source": [
    "df"
   ]
  },
  {
   "cell_type": "code",
   "execution_count": null,
   "id": "a47511e0",
   "metadata": {},
   "outputs": [],
   "source": [
    "df_X = df.drop(columns=[\n",
    "    'target', 'state', 'phone number',\n",
    "    'total day charge', 'total night charge',\n",
    "    'total eve charge'\n",
    "])\n",
    "y = df['target'].values"
   ]
  },
  {
   "cell_type": "code",
   "execution_count": null,
   "id": "a68b7cfe",
   "metadata": {},
   "outputs": [],
   "source": [
    "regr = RandomForestRegressor(n_estimators=100, max_features='sqrt')\n",
    "regr.fit(df_X, y)"
   ]
  },
  {
   "cell_type": "code",
   "execution_count": null,
   "id": "79034b41",
   "metadata": {},
   "outputs": [],
   "source": [
    "features = list(df_X.columns)"
   ]
  },
  {
   "cell_type": "code",
   "execution_count": null,
   "id": "549a0f94",
   "metadata": {},
   "outputs": [],
   "source": [
    "subset = df_X.sample(1000)"
   ]
  },
  {
   "cell_type": "code",
   "execution_count": null,
   "id": "e44ac050",
   "metadata": {
    "scrolled": false
   },
   "outputs": [],
   "source": [
    "pd_data = partial_dependence(\n",
    "    predict=regr.predict,\n",
    "    df=subset,\n",
    "    features=features,\n",
    "    ordinal_features={'area code', 'international plan', 'voice mail plan'},\n",
    "    resolution=10,\n",
    "    n_jobs=4,\n",
    ")"
   ]
  },
  {
   "cell_type": "code",
   "execution_count": null,
   "id": "6414de44",
   "metadata": {
    "scrolled": false
   },
   "outputs": [],
   "source": [
    "w = PDPExplorerWidget(\n",
    "    predict=regr.predict,\n",
    "    df=subset,\n",
    "    pd_data=pd_data,\n",
    "    height=650\n",
    ")\n",
    "\n",
    "w"
   ]
  },
  {
   "cell_type": "code",
   "execution_count": null,
   "id": "bbe7af19",
   "metadata": {},
   "outputs": [],
   "source": [
    "w.highlighted_indices"
   ]
  },
  {
   "cell_type": "code",
   "execution_count": null,
   "id": "f088f493",
   "metadata": {},
   "outputs": [],
   "source": []
  }
 ],
 "metadata": {
  "kernelspec": {
   "display_name": "Python 3 (ipykernel)",
   "language": "python",
   "name": "python3"
  },
  "language_info": {
   "codemirror_mode": {
    "name": "ipython",
    "version": 3
   },
   "file_extension": ".py",
   "mimetype": "text/x-python",
   "name": "python",
   "nbconvert_exporter": "python",
   "pygments_lexer": "ipython3",
   "version": "3.8.15"
  }
 },
 "nbformat": 4,
 "nbformat_minor": 5
}
