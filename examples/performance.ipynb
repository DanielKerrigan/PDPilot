{
 "cells": [
  {
   "cell_type": "markdown",
   "id": "d345d710",
   "metadata": {},
   "source": [
    "# Performance"
   ]
  },
  {
   "cell_type": "markdown",
   "id": "f72d4fb1",
   "metadata": {},
   "source": [
    "## Imports"
   ]
  },
  {
   "cell_type": "code",
   "execution_count": null,
   "id": "ec4c1bf4",
   "metadata": {},
   "outputs": [],
   "source": [
    "import pdpexplorer\n",
    "from pdpexplorer.pdp import get_single_pdps, get_double_pdps\n",
    "import pandas as pd\n",
    "import numpy as np\n",
    "from sklearn.ensemble import RandomForestRegressor\n",
    "import altair as alt\n",
    "\n",
    "from itertools import combinations\n",
    "import timeit\n",
    "import cProfile\n",
    "import pstats\n",
    "from pstats import SortKey"
   ]
  },
  {
   "cell_type": "markdown",
   "id": "f13caa53",
   "metadata": {},
   "source": [
    "## Preparing Data and Model"
   ]
  },
  {
   "cell_type": "code",
   "execution_count": null,
   "id": "a1673f12",
   "metadata": {},
   "outputs": [],
   "source": [
    "df_original = pd.read_csv('bike-sharing.csv')\n",
    "df_original.head()"
   ]
  },
  {
   "cell_type": "code",
   "execution_count": null,
   "id": "f0eb5a69",
   "metadata": {},
   "outputs": [],
   "source": [
    "categories = ['season', 'weathersit']\n",
    "df_one_hot = pd.get_dummies(df_original, columns=categories)"
   ]
  },
  {
   "cell_type": "code",
   "execution_count": null,
   "id": "a27560a5",
   "metadata": {},
   "outputs": [],
   "source": [
    "feature_to_one_hot = {\n",
    "    original_feat: [\n",
    "        (feat, feat.split('_')[-1])\n",
    "        for feat in df_one_hot.columns\n",
    "        if feat.startswith(original_feat)\n",
    "    ]\n",
    "    for original_feat in categories\n",
    "}\n",
    "feature_to_one_hot"
   ]
  },
  {
   "cell_type": "code",
   "execution_count": null,
   "id": "a3dd9eec",
   "metadata": {},
   "outputs": [],
   "source": [
    "df_X = df_one_hot.drop(columns=['label', 'prediction'])\n",
    "X = df_X.to_numpy()\n",
    "X"
   ]
  },
  {
   "cell_type": "code",
   "execution_count": null,
   "id": "94c8c3b6",
   "metadata": {},
   "outputs": [],
   "source": [
    "y = df_original['label'].to_numpy()\n",
    "y"
   ]
  },
  {
   "cell_type": "code",
   "execution_count": null,
   "id": "a94cdf14",
   "metadata": {},
   "outputs": [],
   "source": [
    "regr = RandomForestRegressor(n_estimators=20)\n",
    "regr.fit(X, y)\n",
    "regr.predict(X)"
   ]
  },
  {
   "cell_type": "code",
   "execution_count": null,
   "id": "c6d88c2c",
   "metadata": {},
   "outputs": [],
   "source": [
    "value_to_one_hot = {\n",
    "    (feature, value): one_hot\n",
    "    for feature, one_hots in feature_to_one_hot.items()\n",
    "    for one_hot, value in one_hots\n",
    "}\n",
    "value_to_one_hot"
   ]
  },
  {
   "cell_type": "code",
   "execution_count": null,
   "id": "755e1f3e",
   "metadata": {},
   "outputs": [],
   "source": [
    "one_hot_features = {\n",
    "    one_hot\n",
    "    for one_hots in feature_to_one_hot.values()\n",
    "    for one_hot, _ in one_hots\n",
    "}\n",
    "one_hot_features"
   ]
  },
  {
   "cell_type": "code",
   "execution_count": null,
   "id": "8ed05d30",
   "metadata": {},
   "outputs": [],
   "source": [
    "normal_features = [\n",
    "    feat\n",
    "    for feat in df_X.columns\n",
    "    if feat not in one_hot_features\n",
    "]\n",
    "normal_features"
   ]
  },
  {
   "cell_type": "code",
   "execution_count": null,
   "id": "3569772b",
   "metadata": {},
   "outputs": [],
   "source": [
    "unique_feature_vals = {\n",
    "    col: sorted(list(df_X[col].unique()))\n",
    "    for col in normal_features\n",
    "}\n",
    "\n",
    "for feature, one_hot_info in feature_to_one_hot.items():\n",
    "    unique_feature_vals[feature] = sorted([value for (_, value) in one_hot_info])"
   ]
  },
  {
   "cell_type": "code",
   "execution_count": null,
   "id": "86823bbb",
   "metadata": {},
   "outputs": [],
   "source": [
    "quantitative_features = {\n",
    "    feature\n",
    "    for feature in df_X.select_dtypes(include='number').columns\n",
    "    if feature not in one_hot_features and len(unique_feature_vals[feature]) > 12\n",
    "}"
   ]
  },
  {
   "cell_type": "code",
   "execution_count": null,
   "id": "e81271c0",
   "metadata": {},
   "outputs": [],
   "source": [
    "features = sorted(normal_features + list(feature_to_one_hot.keys()))"
   ]
  },
  {
   "cell_type": "code",
   "execution_count": null,
   "id": "88154ae9",
   "metadata": {},
   "outputs": [],
   "source": [
    "pairs = list(combinations(features, 2))"
   ]
  },
  {
   "cell_type": "markdown",
   "id": "fc84259a",
   "metadata": {},
   "source": [
    "## Profiling"
   ]
  },
  {
   "cell_type": "markdown",
   "id": "4ebae0fb",
   "metadata": {},
   "source": [
    "### Single feature"
   ]
  },
  {
   "cell_type": "code",
   "execution_count": null,
   "id": "943c86e4",
   "metadata": {},
   "outputs": [],
   "source": [
    "statement = '''\\\n",
    "get_single_pdps(\n",
    "    regr,\n",
    "    df_X,\n",
    "    features,\n",
    "    20,\n",
    "    feature_to_one_hot,\n",
    "    value_to_one_hot,\n",
    "    quantitative_features,\n",
    "    unique_feature_vals\n",
    ")\n",
    "'''\n",
    "\n",
    "cProfile.run(statement, 'restats1d')\n",
    "p = pstats.Stats('restats1d')"
   ]
  },
  {
   "cell_type": "code",
   "execution_count": null,
   "id": "d7646a67",
   "metadata": {},
   "outputs": [],
   "source": [
    "p.strip_dirs().sort_stats(SortKey.TIME).print_stats()"
   ]
  },
  {
   "cell_type": "code",
   "execution_count": null,
   "id": "c95132f4",
   "metadata": {},
   "outputs": [],
   "source": [
    "p.strip_dirs().sort_stats(SortKey.CUMULATIVE).print_stats()"
   ]
  },
  {
   "cell_type": "markdown",
   "id": "5102743e",
   "metadata": {},
   "source": [
    "### Double feature"
   ]
  },
  {
   "cell_type": "code",
   "execution_count": null,
   "id": "b9248837",
   "metadata": {},
   "outputs": [],
   "source": [
    "statement = '''\\\n",
    "get_double_pdps(\n",
    "    regr,\n",
    "    df_X,\n",
    "    pairs,\n",
    "    20,\n",
    "    feature_to_one_hot,\n",
    "    value_to_one_hot,\n",
    "    quantitative_features,\n",
    "    unique_feature_vals\n",
    ")\n",
    "'''\n",
    "\n",
    "cProfile.run(statement, 'restats2d')\n",
    "p = pstats.Stats('restats2d')"
   ]
  },
  {
   "cell_type": "code",
   "execution_count": null,
   "id": "82edd93a",
   "metadata": {},
   "outputs": [],
   "source": [
    "p.strip_dirs().sort_stats(SortKey.TIME).print_stats()"
   ]
  },
  {
   "cell_type": "code",
   "execution_count": null,
   "id": "c54d99ce",
   "metadata": {},
   "outputs": [],
   "source": [
    "p.strip_dirs().sort_stats(SortKey.CUMULATIVE).print_stats()"
   ]
  },
  {
   "cell_type": "markdown",
   "id": "154604fa",
   "metadata": {},
   "source": [
    "## Timing"
   ]
  },
  {
   "cell_type": "code",
   "execution_count": null,
   "id": "e4692a4f",
   "metadata": {},
   "outputs": [],
   "source": [
    "%%time\n",
    "\n",
    "single_pdps = get_single_pdps(\n",
    "    regr,\n",
    "    df_X,\n",
    "    features,\n",
    "    20,\n",
    "    feature_to_one_hot,\n",
    "    value_to_one_hot,\n",
    "    quantitative_features,\n",
    "    unique_feature_vals\n",
    ")"
   ]
  },
  {
   "cell_type": "code",
   "execution_count": null,
   "id": "b377676d",
   "metadata": {},
   "outputs": [],
   "source": [
    "%%time\n",
    "\n",
    "double_pdps = get_double_pdps(\n",
    "    regr,\n",
    "    df_X,\n",
    "    pairs,\n",
    "    20,\n",
    "    feature_to_one_hot,\n",
    "    value_to_one_hot,\n",
    "    quantitative_features,\n",
    "    unique_feature_vals\n",
    ")"
   ]
  },
  {
   "cell_type": "code",
   "execution_count": null,
   "id": "d30ea54c",
   "metadata": {},
   "outputs": [],
   "source": [
    "def time_resolution_1d():\n",
    "    resolutions = list(range(5, len(unique_feature_vals['hum']), 5))\n",
    "    times = []\n",
    "    for res in resolutions:\n",
    "        def func():\n",
    "            get_single_pdps(\n",
    "                regr,\n",
    "                df_X,\n",
    "                ['hum'],\n",
    "                res,\n",
    "                feature_to_one_hot,\n",
    "                value_to_one_hot,\n",
    "                quantitative_features,\n",
    "                unique_feature_vals\n",
    "            )\n",
    "        t = timeit.timeit(func, number=5)\n",
    "        times.append(t)\n",
    "        \n",
    "    df = pd.DataFrame({\n",
    "        'resolution': resolutions,\n",
    "        'seconds': times\n",
    "    })\n",
    "    \n",
    "    return df"
   ]
  },
  {
   "cell_type": "code",
   "execution_count": null,
   "id": "524a837f",
   "metadata": {},
   "outputs": [],
   "source": [
    "def time_resolution_2d():\n",
    "    min_unique = min(len(unique_feature_vals['hum']), len(unique_feature_vals['atemp']))\n",
    "    resolutions = list(range(5, min_unique, 5))\n",
    "    times = []\n",
    "    for res in resolutions:\n",
    "        def func():\n",
    "            get_double_pdps(\n",
    "                regr,\n",
    "                df_X,\n",
    "                [('hum', 'atemp')],\n",
    "                res,\n",
    "                feature_to_one_hot,\n",
    "                value_to_one_hot,\n",
    "                quantitative_features,\n",
    "                unique_feature_vals\n",
    "            )\n",
    "        t = timeit.timeit(func, number=2)\n",
    "        times.append(t)\n",
    "        \n",
    "    df = pd.DataFrame({\n",
    "        'resolution': resolutions,\n",
    "        'seconds': times\n",
    "    })\n",
    "    \n",
    "    return df"
   ]
  },
  {
   "cell_type": "code",
   "execution_count": null,
   "id": "57d5d521",
   "metadata": {},
   "outputs": [],
   "source": [
    "def plot_resolution(df):\n",
    "    return alt.Chart(df).mark_line().encode(\n",
    "        x='resolution',\n",
    "        y='seconds'\n",
    "    )"
   ]
  },
  {
   "cell_type": "code",
   "execution_count": null,
   "id": "8f142b00",
   "metadata": {},
   "outputs": [],
   "source": [
    "df_res_1d = time_resolution_1d()"
   ]
  },
  {
   "cell_type": "code",
   "execution_count": null,
   "id": "585e1d02",
   "metadata": {},
   "outputs": [],
   "source": [
    "plot_resolution(df_res_1d)"
   ]
  },
  {
   "cell_type": "code",
   "execution_count": null,
   "id": "9626677c",
   "metadata": {},
   "outputs": [],
   "source": [
    "df_res_2d = time_resolution_2d()"
   ]
  },
  {
   "cell_type": "code",
   "execution_count": null,
   "id": "cf9ec77f",
   "metadata": {},
   "outputs": [],
   "source": [
    "plot_resolution(df_res_2d)"
   ]
  },
  {
   "cell_type": "code",
   "execution_count": null,
   "id": "d8e3b314",
   "metadata": {},
   "outputs": [],
   "source": [
    "def time_instances_1d():\n",
    "    instances = list(range(50, df_X.shape[0], 50))\n",
    "    times = []\n",
    "    for i in instances:\n",
    "        def func():\n",
    "            get_single_pdps(\n",
    "                regr,\n",
    "                df_X.sample(i),\n",
    "                ['hum'],\n",
    "                20,\n",
    "                feature_to_one_hot,\n",
    "                value_to_one_hot,\n",
    "                quantitative_features,\n",
    "                unique_feature_vals\n",
    "            )\n",
    "        t = timeit.timeit(func, number=5)\n",
    "        times.append(t)\n",
    "        \n",
    "    df = pd.DataFrame({\n",
    "        'instances': instances,\n",
    "        'seconds': times\n",
    "    })\n",
    "    \n",
    "    return df"
   ]
  },
  {
   "cell_type": "code",
   "execution_count": null,
   "id": "c04830e3",
   "metadata": {},
   "outputs": [],
   "source": [
    "def plot_instances(df):\n",
    "    return alt.Chart(df).mark_line().encode(\n",
    "        x='instances',\n",
    "        y='seconds'\n",
    "    )"
   ]
  },
  {
   "cell_type": "code",
   "execution_count": null,
   "id": "2b7b6975",
   "metadata": {},
   "outputs": [],
   "source": [
    "df_instances_1d = time_instances_1d()"
   ]
  },
  {
   "cell_type": "code",
   "execution_count": null,
   "id": "b815f15c",
   "metadata": {},
   "outputs": [],
   "source": [
    "plot_instances(df_instances_1d)"
   ]
  },
  {
   "cell_type": "code",
   "execution_count": null,
   "id": "4e15b2dc",
   "metadata": {},
   "outputs": [],
   "source": []
  }
 ],
 "metadata": {
  "kernelspec": {
   "display_name": "Python 3 (ipykernel)",
   "language": "python",
   "name": "python3"
  },
  "language_info": {
   "codemirror_mode": {
    "name": "ipython",
    "version": 3
   },
   "file_extension": ".py",
   "mimetype": "text/x-python",
   "name": "python",
   "nbconvert_exporter": "python",
   "pygments_lexer": "ipython3",
   "version": "3.10.4"
  }
 },
 "nbformat": 4,
 "nbformat_minor": 5
}
