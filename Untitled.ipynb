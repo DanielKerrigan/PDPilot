{
 "cells": [
  {
   "cell_type": "code",
   "execution_count": 1,
   "id": "823657c9-6c0e-4c4c-9a07-84b35aa2bd16",
   "metadata": {},
   "outputs": [],
   "source": [
    "from pdp_ranking import PdpRanker"
   ]
  },
  {
   "cell_type": "code",
   "execution_count": 2,
   "id": "c70c6ed5-6ec0-4d48-99f6-d01ff9def7ad",
   "metadata": {},
   "outputs": [
    {
     "data": {
      "application/vnd.jupyter.widget-view+json": {
       "model_id": "90fc1224c25c45d4aee7ee10118ea6f0",
       "version_major": 2,
       "version_minor": 0
      },
      "text/plain": [
       "PdpRanker()"
      ]
     },
     "metadata": {},
     "output_type": "display_data"
    }
   ],
   "source": [
    "w = PdpRanker()\n",
    "w"
   ]
  },
  {
   "cell_type": "code",
   "execution_count": null,
   "id": "9c1132d6-c0c7-4d46-8adb-c00d410805b4",
   "metadata": {},
   "outputs": [],
   "source": []
  }
 ],
 "metadata": {
  "kernelspec": {
   "display_name": "Python 3 (ipykernel)",
   "language": "python",
   "name": "python3"
  },
  "language_info": {
   "codemirror_mode": {
    "name": "ipython",
    "version": 3
   },
   "file_extension": ".py",
   "mimetype": "text/x-python",
   "name": "python",
   "nbconvert_exporter": "python",
   "pygments_lexer": "ipython3",
   "version": "3.10.2"
  }
 },
 "nbformat": 4,
 "nbformat_minor": 5
}
